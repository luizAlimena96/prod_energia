{
 "cells": [
  {
   "cell_type": "markdown",
   "metadata": {},
   "source": [
    "Importando bibliotecas e arquivos"
   ]
  },
  {
   "cell_type": "code",
   "execution_count": 99,
   "metadata": {},
   "outputs": [],
   "source": [
    "import pandas as pd\n",
    "import matplotlib.pyplot as plt\n",
    "\n",
    "vazoes_path = '28150000_Vazoes.txt'"
   ]
  },
  {
   "cell_type": "markdown",
   "metadata": {},
   "source": [
    "Inicializando os dados do arquivo"
   ]
  },
  {
   "cell_type": "code",
   "execution_count": 100,
   "metadata": {},
   "outputs": [],
   "source": [
    "df = pd.read_csv(vazoes_path, sep=';', skiprows=15, encoding='latin1', header=0)"
   ]
  },
  {
   "cell_type": "markdown",
   "metadata": {},
   "source": [
    "Tratando os dados"
   ]
  },
  {
   "cell_type": "code",
   "execution_count": 101,
   "metadata": {},
   "outputs": [],
   "source": [
    "df['Data'] = pd.to_datetime(df['Data'], format='%d/%m/%Y', errors='coerce')"
   ]
  },
  {
   "cell_type": "code",
   "execution_count": 102,
   "metadata": {},
   "outputs": [
    {
     "name": "stdout",
     "output_type": "stream",
     "text": [
      "Volume Maximo: 1040740585.6984615\n",
      "Qs(0): 1278934.157285564\n",
      "    Mês  Vazão Média  Dias do Mês  Volume Inicial     Volume Final  \\\n",
      "0     1        47.80           31  128,038,625.06   128,038,625.06   \n",
      "1     2        62.55           28  151,324,859.75   279,363,484.81   \n",
      "2     3        66.78           31  178,866,208.97   458,229,693.78   \n",
      "3     4        68.67           30  177,994,599.55   636,224,293.33   \n",
      "4     5        44.80           31  120,001,051.58   756,225,344.92   \n",
      "5     6        19.96           30   51,747,206.40   807,972,551.32   \n",
      "6     7        10.86           31   29,087,413.29   837,059,964.60   \n",
      "7     8         6.93           31   18,565,318.89   855,625,283.49   \n",
      "8     9         6.75           30   17,508,669.70   873,133,953.19   \n",
      "9    10        10.67           31   28,574,692.53   901,708,645.72   \n",
      "10   11        19.44           30   50,377,189.25   952,085,834.97   \n",
      "11   12        33.10           31   88,654,750.73 1,040,740,585.70   \n",
      "\n",
      "            Qs(0)          Qs(f)  \n",
      "0   39,646,958.88  40,925,893.03  \n",
      "1  111,134,184.65 112,413,118.81  \n",
      "2  201,608,727.45 202,887,661.60  \n",
      "3  294,063,004.88 295,341,939.04  \n",
      "4  325,672,390.29 326,951,324.44  \n",
      "5  291,879,274.57 293,158,208.73  \n",
      "6  232,575,021.68 233,853,955.84  \n",
      "7  162,748,674.38 164,027,608.54  \n",
      "8   94,717,021.97  95,995,956.12  \n",
      "9   34,900,048.31  36,178,982.47  \n",
      "10    -263,084.55   1,015,849.61  \n",
      "11          -0.00   1,278,934.16  \n",
      "\n",
      "Vazão: 33.00166748155954\n"
     ]
    }
   ],
   "source": [
    "df['Media'] = df['Media'].astype(str).str.replace(',', '.').astype(float)\n",
    "df['Minima'] = df['Minima'].astype(str).str.replace(',', '.').astype(float)\n",
    "df['Maxima'] = df['Maxima'].astype(str).str.replace(',', '.').astype(float)\n",
    "\n",
    "df = df[(df['Data'] >= '1990') & (df['Data'] <= '2015')]\n",
    "\n",
    "df['Year'] = df['Data'].dt.year\n",
    "df['Month'] = df['Data'].dt.month\n",
    "\n",
    "dias = [31, 28, 31, 30, 31, 30, 31, 31, 30, 31, 30, 31]\n",
    "\n",
    "media_mensal = df.groupby('Month')['Media'].mean().reset_index()\n",
    "media_mensal.columns = ['Mês', 'Vazão Média']\n",
    "media_mensal['Dias do Mês'] = media_mensal['Mês'].map(lambda x: dias[x-1])\n",
    "\n",
    "media_mensal['Volume Inicial'] = media_mensal['Vazão Média']*media_mensal['Dias do Mês']*24*3600\n",
    "media_mensal['Volume Final'] = 0.0\n",
    "\n",
    "for i in range(len(media_mensal)):\n",
    "    if i == 0:\n",
    "        media_mensal.loc[i, 'Volume Final'] = media_mensal.loc[i, 'Volume Inicial']\n",
    "    else:\n",
    "        media_mensal.loc[i, 'Volume Final'] = (\n",
    "            media_mensal.loc[i, 'Volume Inicial'] + media_mensal.loc[i - 1, 'Volume Final']\n",
    "        )\n",
    "\n",
    "print(f'Volume Maximo: {media_mensal[\"Volume Final\"].max()}')\n",
    "\n",
    "vazao_regularizada = media_mensal['Volume Final'].max()/365/24/3600\n",
    "volume_1 = media_mensal.loc[0,'Vazão Média']*24*3600\n",
    "\n",
    "for i in range(len(media_mensal)):\n",
    "    if i == 0:\n",
    "        media_mensal.loc[i,'Qs(0)'] = media_mensal.loc[i,'Volume Inicial'] - (media_mensal.loc[i,'Dias do Mês']*24*3600*vazao_regularizada)\n",
    "    else:\n",
    "        media_mensal.loc[i,'Qs(0)'] = media_mensal.loc[i-1,'Qs(0)'] + media_mensal.loc[i,'Volume Inicial'] - (media_mensal.loc[i,'Dias do Mês']*24*3600*vazao_regularizada)\n",
    "\n",
    "Qsf_0 = volume_1 - (vazao_regularizada*24*3600)\n",
    "\n",
    "for i in range(len(media_mensal)):\n",
    "    if i == 0:\n",
    "        media_mensal.loc[i,'Qs(f)'] = Qsf_0 + media_mensal.loc[i,'Volume Inicial'] - (media_mensal.loc[i,'Dias do Mês']*24*3600*vazao_regularizada)\n",
    "    else:\n",
    "        media_mensal.loc[i,'Qs(f)'] = media_mensal.loc[i-1, 'Qs(f)'] + media_mensal.loc[i,'Volume Inicial'] - (media_mensal.loc[i,'Dias do Mês']*24*3600*vazao_regularizada)\n",
    "\n",
    "\n",
    "pd.options.display.float_format = '{:,.2f}'.format\n",
    "\n",
    "print(media_mensal)\n",
    "print()\n",
    "print(f'Vazão: {vazao_regularizada}')"
   ]
  }
 ],
 "metadata": {
  "kernelspec": {
   "display_name": "estudos",
   "language": "python",
   "name": "python3"
  },
  "language_info": {
   "codemirror_mode": {
    "name": "ipython",
    "version": 3
   },
   "file_extension": ".py",
   "mimetype": "text/x-python",
   "name": "python",
   "nbconvert_exporter": "python",
   "pygments_lexer": "ipython3",
   "version": "3.11.4"
  }
 },
 "nbformat": 4,
 "nbformat_minor": 2
}
